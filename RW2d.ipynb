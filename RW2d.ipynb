{
 "cells": [
  {
   "cell_type": "code",
   "execution_count": 428,
   "metadata": {},
   "outputs": [],
   "source": [
    "import torch\n",
    "from joblib import Parallel, delayed"
   ]
  },
  {
   "cell_type": "code",
   "execution_count": 585,
   "metadata": {},
   "outputs": [],
   "source": [
    "class Random_walk:\n",
    "    def __init__(self, bounds : list[callable],\n",
    "                n_workers : int = 4):\n",
    "        self.bounds, self.nb = bounds, len(bounds)\n",
    "        self.n_workers = n_workers\n",
    "    \n",
    "    def _sample_steps(self, n : int = 100) -> torch.Tensor:\n",
    "        \"\"\"Sample n steps in 2D RW with step size 10 (cm).\"\"\"\n",
    "        opt = torch.tensor([[10, 0], [0, 10], [-10, 0], [0, -10]])\n",
    "        steps = opt[torch.randint(4, (1, n))].squeeze()\n",
    "        return steps.cumsum(dim=0)\n",
    "    \n",
    "    def _check_bounds(self, path : torch.Tensor,\n",
    "                            found : torch.Tensor) -> torch.Tensor:\n",
    "        \"\"\"Check if path is finding any food.\"\"\"\n",
    "        breaches = torch.ones(self.nb, dtype=int)*-1\n",
    "        for i in torch.argwhere(~found).ravel():\n",
    "            limit = self.bounds[i](path[:, 0])\n",
    "            breach = torch.argwhere((path[:, 1] <= limit[:, 0]) |\\\n",
    "                                    (path[:, 1] >= limit[:, 1]))\n",
    "            if breach.numel() > 0:\n",
    "                breaches[i] = breach.min()\n",
    "        return breaches\n",
    "\n",
    "    def _walk(self) -> torch.Tensor:\n",
    "        \"\"\"Count steps needed to first reach the food.\"\"\"\n",
    "        # --- initialize search ---\n",
    "        path = torch.zeros(1, 2)\n",
    "        steps, carry = torch.zeros(self.nb, dtype=int), torch.zeros(self.nb, dtype=int)\n",
    "        found = torch.zeros(self.nb, dtype=bool)\n",
    "        # --- search for food ---\n",
    "        while not all(found):\n",
    "          carry += path.shape[0] # add at least one step\n",
    "          path = self._sample_steps(100) + path[-1]\n",
    "          # --- --- check for boundary breaches (food found) --- ---\n",
    "          check_srch = self._check_bounds(path, found)\n",
    "          newfound = ~found & (check_srch > -1)\n",
    "          steps[newfound] = check_srch[newfound] + carry[newfound]\n",
    "          found[newfound] = True\n",
    "        \n",
    "        return steps\n",
    "    \n",
    "    def simulate(self, iterations = 1_000) -> torch.Tensor:\n",
    "        \"\"\"Return average number of steps to reach the boundary.\"\"\"\n",
    "        steps = torch.vstack(Parallel(n_jobs=self.n_workers)(\n",
    "            delayed(self._walk)() for _ in range(iterations)))\n",
    "        return steps.float().mean(dim=0)"
   ]
  },
  {
   "cell_type": "code",
   "execution_count": 603,
   "metadata": {},
   "outputs": [],
   "source": [
    "\"\"\"Define food distributions as a list of functions formatted as\n",
    "expressions of the upper and lower (y) limits as a function\n",
    "of the x-coordinate. E.g. x -> yUpperLimit(x), x -> yLowerLimit(x). \"\"\"\n",
    "\n",
    "food_distributions = [\n",
    "    # --- square food distribution, a) ---\n",
    "    lambda x : torch.tensor([-20, 20]).repeat(x.size(0), 1)\\\n",
    "                *torch.logical_and(x > -20, x < 20).repeat(2, 1).T,\n",
    "    # --- linear diagonal food distribution, b) ---\n",
    "    lambda x : torch.vstack([-torch.tensor(torch.inf).repeat(x.size(0)),\n",
    "                            -x+10]).T,\n",
    "    # --- circular food distribution, c) ---\n",
    "    lambda x : torch.vstack([-40 * torch.sqrt((-((x-2.5)/30)**2+1)) + 2.5,\n",
    "            40 * torch.sqrt((-((x-2.5)/30)**2+1)) + 2.5]).T.nan_to_num(0)\n",
    "]\n",
    "\n",
    "random_walk = Random_walk(food_distributions, n_workers=8)\n",
    "n, bootstrap_n = 100, 100\n",
    "averages = torch.vstack([random_walk.simulate(n) for _ in range(bootstrap_n)])"
   ]
  },
  {
   "cell_type": "code",
   "execution_count": 604,
   "metadata": {},
   "outputs": [
    {
     "name": "stdout",
     "output_type": "stream",
     "text": [
      "Average time to reach the food:\n",
      "  a) 4.520 +- 0.280 seconds (median of bootstrap averages: 4.490 seconds)\n",
      "  b) 9337.585 +- 72063.906 seconds (median of bootstrap averages: 201.560 seconds)\n",
      "  c) 13.930 +- 0.978 seconds (median of bootstrap averages: 13.920 seconds)\n"
     ]
    }
   ],
   "source": [
    "print(f\"Average time to reach the food:\")\n",
    "for i in range(averages.size(1)):\n",
    "    print(f\"  {chr(97+i)}) {averages[:, i].mean():.3f} \", end=\"\")\n",
    "    print(f\"+- {averages[:, i].std():.3f} seconds \", end=\"\")\n",
    "    print(f\"(median of bootstrap averages: {averages[:, i].median():.3f} seconds)\")"
   ]
  }
 ],
 "metadata": {
  "kernelspec": {
   "display_name": "Python 3",
   "language": "python",
   "name": "python3"
  },
  "language_info": {
   "codemirror_mode": {
    "name": "ipython",
    "version": 3
   },
   "file_extension": ".py",
   "mimetype": "text/x-python",
   "name": "python",
   "nbconvert_exporter": "python",
   "pygments_lexer": "ipython3",
   "version": "3.10.9"
  },
  "orig_nbformat": 4
 },
 "nbformat": 4,
 "nbformat_minor": 2
}
